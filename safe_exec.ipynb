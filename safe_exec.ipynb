{
 "cells": [
  {
   "cell_type": "markdown",
   "source": [
    "# Safe exec\n",
    "\n",
    "Run a script in exec function in a safe manner.\n",
    "\n",
    "> In the example below, it allows the user to import `os` (which is not safe)\n",
    "> just to show how to implement."
   ],
   "metadata": {
    "collapsed": false
   }
  },
  {
   "cell_type": "code",
   "execution_count": 16,
   "outputs": [],
   "source": [
    "import typing as _\n",
    "import importlib\n",
    "import builtins\n",
    "import types\n",
    "\n",
    "class Dummy:\n",
    "    \"\"\"Just to not break the script\"\"\"\n",
    "    def __init__(self, name: str) -> None:\n",
    "        self.name = name\n",
    "\n",
    "    def __repr__(self) -> str:\n",
    "        return f'<Dummy {self.name!r} object>'\n",
    "\n",
    "    def __call__(self, *args, **kwargs) -> _.Self:\n",
    "        print(f'[ERROR] Call {self.name!r} not allowed')\n",
    "        return self\n",
    "\n",
    "    def __getattr__(self, item) -> _.Self:\n",
    "        print(f'[ERROR] GetAttr {self.name!r} not allowed')\n",
    "        return self\n",
    "\n",
    "    def __getitem__(self, item) -> _.Self:\n",
    "        print(f'[ERROR] Getitem {self.name!r} not allowed')\n",
    "        return self\n",
    "\n",
    "\n",
    "def my_import(name, globals=None, locals=None, fromlist=(), level=0):\n",
    "    if name in ('os',):\n",
    "        return importlib.__import__(name, globals, locals, fromlist, level)\n",
    "\n",
    "    return Dummy(name)\n",
    "\n",
    "\n",
    "def my_builtins():\n",
    "    module_name = \"my_builtins\"\n",
    "    dynamic_module = types.ModuleType(module_name)\n",
    "\n",
    "    def custom_str(value):\n",
    "        return f'The value {value!r}'\n",
    "\n",
    "    dynamic_module.str = custom_str\n",
    "    dynamic_module.print = builtins.print\n",
    "    dynamic_module.__import__ = my_import\n",
    "\n",
    "    return dynamic_module\n",
    "\n",
    "\n",
    "def exec_script(script: str) -> dict:\n",
    "    _globals = {'__builtins__': my_builtins()}\n",
    "    _locals = {}\n",
    "\n",
    "    exec(script, _globals, _locals)\n",
    "\n",
    "    return _locals\n"
   ],
   "metadata": {
    "collapsed": false,
    "ExecuteTime": {
     "end_time": "2023-07-29T12:30:06.762132Z",
     "start_time": "2023-07-29T12:30:06.754452Z"
    }
   }
  },
  {
   "cell_type": "code",
   "execution_count": 17,
   "outputs": [
    {
     "name": "stdout",
     "output_type": "stream",
     "text": [
      "Hello Arnaldo!\n"
     ]
    }
   ],
   "source": [
    "# Everything in the script is fine\n",
    "l = exec_script('def hello(name):\\n'\n",
    "               '    print(f\"Hello {name}!\")')\n",
    "l['hello']('Arnaldo')"
   ],
   "metadata": {
    "collapsed": false,
    "ExecuteTime": {
     "end_time": "2023-07-29T12:30:06.763115Z",
     "start_time": "2023-07-29T12:30:06.756912Z"
    }
   }
  },
  {
   "cell_type": "code",
   "execution_count": 18,
   "outputs": [
    {
     "name": "stdout",
     "output_type": "stream",
     "text": [
      "[ERROR] GetAttr 'sys' not allowed\n",
      "[ERROR] Getitem 'sys' not allowed\n",
      "The value 10000\n"
     ]
    }
   ],
   "source": [
    "# sys is not allowed, but it will not rise any error\n",
    "l = exec_script('import sys\\n'\n",
    "                'sys.argsv[0]\\n'\n",
    "                'print(str(10_000))')"
   ],
   "metadata": {
    "collapsed": false,
    "ExecuteTime": {
     "end_time": "2023-07-29T12:30:06.785186Z",
     "start_time": "2023-07-29T12:30:06.759864Z"
    }
   }
  },
  {
   "cell_type": "code",
   "execution_count": 19,
   "outputs": [
    {
     "name": "stdout",
     "output_type": "stream",
     "text": [
      "Failed: name 'repr' is not defined\n"
     ]
    }
   ],
   "source": [
    "# repr is not allowed and it rises an error\n",
    "try:\n",
    "    l = exec_script('d = {1: 11, 2:22}\\n'\n",
    "                    'd = repr(d)')\n",
    "except NameError as ex:\n",
    "    print(f'Failed: {ex}')"
   ],
   "metadata": {
    "collapsed": false,
    "ExecuteTime": {
     "end_time": "2023-07-29T12:30:06.785549Z",
     "start_time": "2023-07-29T12:30:06.763807Z"
    }
   }
  }
 ],
 "metadata": {
  "kernelspec": {
   "display_name": "Python 3",
   "language": "python",
   "name": "python3"
  },
  "language_info": {
   "codemirror_mode": {
    "name": "ipython",
    "version": 2
   },
   "file_extension": ".py",
   "mimetype": "text/x-python",
   "name": "python",
   "nbconvert_exporter": "python",
   "pygments_lexer": "ipython2",
   "version": "2.7.6"
  }
 },
 "nbformat": 4,
 "nbformat_minor": 0
}
