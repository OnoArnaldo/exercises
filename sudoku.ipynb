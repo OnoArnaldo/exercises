{
 "cells": [
  {
   "cell_type": "markdown",
   "source": [
    "# Sudoku solver\n",
    "\n",
    "> Based on solution found in internet (I couldn't find the original source)."
   ],
   "metadata": {
    "collapsed": false
   }
  },
  {
   "cell_type": "code",
   "execution_count": 10,
   "metadata": {
    "collapsed": true,
    "ExecuteTime": {
     "start_time": "2023-04-02T14:49:28.963200Z",
     "end_time": "2023-04-02T14:49:28.965029Z"
    }
   },
   "outputs": [
    {
     "data": {
      "text/plain": "[[4, 3, 5, 2, 6, 9, 7, 8, 1],\n [6, 8, 2, 5, 7, 1, 4, 9, 3],\n [1, 9, 7, 8, 3, 4, 5, 6, 2],\n [8, 2, 6, 1, 9, 5, 3, 4, 7],\n [3, 7, 4, 6, 8, 2, 9, 1, 5],\n [9, 5, 1, 7, 4, 3, 6, 2, 8],\n [5, 1, 9, 3, 2, 6, 8, 7, 4],\n [2, 4, 8, 9, 5, 7, 1, 3, 6],\n [7, 6, 3, 4, 1, 8, 2, 5, 9]]"
     },
     "execution_count": 10,
     "metadata": {},
     "output_type": "execute_result"
    }
   ],
   "source": [
    "board = [[0]*9 for _ in range(9)]\n",
    "positions = tuple((r, c) for r in range(9) for c in range(9))\n",
    "\n",
    "def find_zero():\n",
    "    for row, col in positions:\n",
    "        if not board[row][col]:\n",
    "            return row, col\n",
    "\n",
    "    return None, None\n",
    "\n",
    "def is_valid(row, col, value):\n",
    "    for i in range(9):\n",
    "        if board[row][i] == value \\\n",
    "                or board[i][col] == value \\\n",
    "                or board[3*(row//3)+(i//3)][3*(col//3)+(i%3)] == value:\n",
    "            return False\n",
    "    return True\n",
    "\n",
    "def play():\n",
    "    row, col = find_zero()\n",
    "\n",
    "    if col is None:\n",
    "        return True\n",
    "\n",
    "    for val in range(1, 10):\n",
    "        if is_valid(row, col, val):\n",
    "            board[row][col] = val\n",
    "\n",
    "            if play():\n",
    "                return True\n",
    "\n",
    "            board[row][col] = 0\n",
    "\n",
    "\n",
    "solved = [\n",
    "    map(int,'435269781'),\n",
    "    map(int,'682571493'),\n",
    "    map(int,'197834562'),\n",
    "    map(int,'826195347'),\n",
    "    map(int,'374682915'),\n",
    "    map(int,'951743628'),\n",
    "    map(int,'519326874'),\n",
    "    # map(int,'248957136'),\n",
    "    # map(int,'763418259'),\n",
    "]\n",
    "for ri, row in enumerate(solved):\n",
    "    for ci, val in enumerate(row):\n",
    "        if not (0 < val < 9):\n",
    "            continue\n",
    "\n",
    "        if is_valid(ri, ci, val):\n",
    "            board[ri][ci] = val\n",
    "        else:\n",
    "            raise Exception(f'Invalid {ri}x{ci} => {val}')\n",
    "\n",
    "\n",
    "if not play():\n",
    "    print('Failed to generate!')\n",
    "\n",
    "board"
   ]
  },
  {
   "cell_type": "code",
   "execution_count": null,
   "outputs": [],
   "source": [],
   "metadata": {
    "collapsed": false
   }
  }
 ],
 "metadata": {
  "kernelspec": {
   "display_name": "Python 3",
   "language": "python",
   "name": "python3"
  },
  "language_info": {
   "codemirror_mode": {
    "name": "ipython",
    "version": 2
   },
   "file_extension": ".py",
   "mimetype": "text/x-python",
   "name": "python",
   "nbconvert_exporter": "python",
   "pygments_lexer": "ipython2",
   "version": "2.7.6"
  }
 },
 "nbformat": 4,
 "nbformat_minor": 0
}
