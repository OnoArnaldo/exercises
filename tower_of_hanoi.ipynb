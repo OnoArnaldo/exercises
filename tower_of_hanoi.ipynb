{
 "cells": [
  {
   "cell_type": "markdown",
   "source": [
    "# Tower of Hanoi\n",
    "\n",
    "Reference: https://en.wikipedia.org/wiki/Tower_of_Hanoi"
   ],
   "metadata": {
    "collapsed": false
   }
  },
  {
   "cell_type": "code",
   "execution_count": 20,
   "outputs": [
    {
     "name": "stdout",
     "output_type": "stream",
     "text": [
      "Move disk 1 from LEFT to RIGHT\n",
      "Move disk 2 from LEFT to CENTER\n",
      "Move disk 1 from RIGHT to CENTER\n",
      "Move disk 3 from LEFT to RIGHT\n",
      "Move disk 1 from CENTER to LEFT\n",
      "Move disk 2 from CENTER to RIGHT\n",
      "Move disk 1 from LEFT to RIGHT\n"
     ]
    }
   ],
   "source": [
    "def solve(disk: int, left: str, center: str, right: str) -> None:\n",
    "    if disk == 1:\n",
    "        print(f'Move disk {disk} from {left.upper()} to {right.upper()}')\n",
    "    else:\n",
    "        solve(disk-1, left, right, center)\n",
    "        print(f'Move disk {disk} from {left.upper()} to {right.upper()}')\n",
    "        solve(disk-1, center, left, right)\n",
    "\n",
    "def hanoi(number_of_disks: int) -> None:\n",
    "    solve(number_of_disks, 'left', 'center', 'right')\n",
    "\n",
    "\n",
    "hanoi(3)"
   ],
   "metadata": {
    "collapsed": false
   }
  },
  {
   "cell_type": "code",
   "execution_count": null,
   "outputs": [],
   "source": [],
   "metadata": {
    "collapsed": false
   }
  }
 ],
 "metadata": {
  "kernelspec": {
   "display_name": "Python 3",
   "language": "python",
   "name": "python3"
  },
  "language_info": {
   "codemirror_mode": {
    "name": "ipython",
    "version": 2
   },
   "file_extension": ".py",
   "mimetype": "text/x-python",
   "name": "python",
   "nbconvert_exporter": "python",
   "pygments_lexer": "ipython2",
   "version": "2.7.6"
  }
 },
 "nbformat": 4,
 "nbformat_minor": 0
}
