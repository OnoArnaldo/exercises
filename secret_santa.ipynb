{
 "cells": [
  {
   "cell_type": "markdown",
   "source": [
    "# Secret santa assignment\n",
    "\n",
    "* Without closed loop\n",
    "* Avoiding family members to pick each other"
   ],
   "metadata": {
    "collapsed": false
   }
  },
  {
   "cell_type": "code",
   "execution_count": 1,
   "metadata": {
    "collapsed": true
   },
   "outputs": [],
   "source": [
    "members = ['A1', 'A2', 'A3', 'B1', 'C1', 'C2', 'C3', 'C4', 'D1', 'E1', 'E2']\n",
    "families = [\n",
    "    ('A1', 'A2', 'A3'),\n",
    "    ('C1', 'C2', 'C3', 'C4'),\n",
    "    ('E1', 'E2')\n",
    "]"
   ]
  },
  {
   "cell_type": "code",
   "execution_count": 2,
   "outputs": [
    {
     "name": "stdout",
     "output_type": "stream",
     "text": [
      "E2 => D1\n",
      "D1 => C4\n",
      "C4 => B1\n",
      "B1 => A1\n",
      "A1 => C2\n",
      "C2 => A3\n",
      "A3 => C1\n",
      "C1 => E1\n",
      "E1 => C3\n",
      "C3 => A2\n",
      "A2 => E2\n",
      "Same families: 0\n",
      "Number of tries: 0\n"
     ]
    }
   ],
   "source": [
    "import random\n",
    "\n",
    "def same_family(name1: str, name2: str) -> bool:\n",
    "    return any([name1 in f and name2 in f for f in families])\n",
    "\n",
    "def pick_for(name: str, lst: list[str]) -> str:\n",
    "    weights = [1 if same_family(name, n) else 100\n",
    "               for n in lst]\n",
    "    return random.choices(lst, weights)[0]\n",
    "\n",
    "def pick_all(lst: list[str]) -> list[tuple[str, str]]:\n",
    "    result = []\n",
    "\n",
    "    name = lst.pop()\n",
    "    first = name\n",
    "    while len(lst) != 0:\n",
    "        pick = pick_for(name, lst)\n",
    "        result.append((name, pick))\n",
    "        name = pick\n",
    "        lst.remove(pick)\n",
    "\n",
    "    result.append((name, first))\n",
    "    return result\n",
    "\n",
    "def count_family(lst: list[tuple[str, str]]) -> int:\n",
    "    return sum([1 if same_family(n1, n2) else 0 for n1, n2 in lst])\n",
    "\n",
    "def pick_best(tries=1) -> tuple:\n",
    "    best_count = 1000000\n",
    "    best_result = []\n",
    "    best_try = -1\n",
    "\n",
    "    for t in range(tries):\n",
    "        p = pick_all(list(members))\n",
    "        c = count_family(p)\n",
    "\n",
    "        if best_count > c:\n",
    "            best_count = c\n",
    "            best_result = p\n",
    "            best_try = t\n",
    "\n",
    "        if best_count == 0:\n",
    "            break\n",
    "\n",
    "    return best_result, best_count, best_try\n",
    "\n",
    "\n",
    "result, count, tries = pick_best(5)\n",
    "\n",
    "print('\\n'.join([f'{member} => {pick}' for member, pick in result]))\n",
    "print(f'Same families: {count}')\n",
    "print(f'Number of tries: {tries}')"
   ],
   "metadata": {
    "collapsed": false
   }
  },
  {
   "cell_type": "code",
   "execution_count": null,
   "outputs": [],
   "source": [],
   "metadata": {
    "collapsed": false
   }
  }
 ],
 "metadata": {
  "kernelspec": {
   "display_name": "Python 3",
   "language": "python",
   "name": "python3"
  },
  "language_info": {
   "codemirror_mode": {
    "name": "ipython",
    "version": 2
   },
   "file_extension": ".py",
   "mimetype": "text/x-python",
   "name": "python",
   "nbconvert_exporter": "python",
   "pygments_lexer": "ipython2",
   "version": "2.7.6"
  }
 },
 "nbformat": 4,
 "nbformat_minor": 0
}
