{
 "cells": [
  {
   "cell_type": "markdown",
   "source": [
    "# Zebra puzzle\n",
    "\n",
    "Reference: https://en.wikipedia.org/wiki/Zebra_Puzzle\n",
    "\n",
    "## Description\n",
    "\n",
    "> I replaced cigar by programming language (which is much healthier)!\n",
    "\n",
    "\n",
    "The following version of the puzzle appeared in Life International in 1962:\n",
    "\n",
    "```\n",
    "        There are five houses.\n",
    "        The Englishman lives in the red house.\n",
    "        The Spaniard owns the dog.\n",
    "        Coffee is drunk in the green house.\n",
    "        The Ukrainian drinks tea.\n",
    "        The green house is immediately to the right of the ivory house.\n",
    "        The \"Python programmer\" owns snails.\n",
    "        \"JavaScript programmer is\" in the yellow house.\n",
    "        Milk is drunk in the middle house.\n",
    "        The Norwegian lives in the first house.\n",
    "        The man who \"programs Assembly\" lives in the house next to the man with the fox.\n",
    "        \"JavaScript programmer is\" in the house next to the house where the horse is kept.\n",
    "        The \"C++ programmer\" drinks orange juice.\n",
    "        The Japanese \"programs PHP\".\n",
    "        The Norwegian lives next to the blue house.\n",
    "\n",
    "    Now, who drinks water? Who owns the zebra?\n",
    "\n",
    "    In the interest of clarity, it must be added that each of the five houses is painted a different color,\n",
    "    and their inhabitants are of different national extractions, own different pets, drink different beverages\n",
    "    and smoke different brands of American cigarets [sic]. One other thing: in statement 6, right means your right.\n",
    "    - Life International, December 17, 1962\n",
    "```"
   ],
   "metadata": {
    "collapsed": false
   }
  },
  {
   "cell_type": "markdown",
   "source": [
    "# Create tuples with all the options"
   ],
   "metadata": {
    "collapsed": false
   }
  },
  {
   "cell_type": "code",
   "execution_count": 2,
   "outputs": [],
   "source": [
    "nationalities = ('Englishman', 'Spaniard', 'Ukrainian', 'Norwegian', 'Japanese')\n",
    "colors = ('red', 'green', 'ivory', 'yellow', 'blue')\n",
    "animals = ('dog', 'snails', 'fox', 'horse', 'zebra')\n",
    "drinks = ('coffee', 'tea', 'milk', 'orange juice', 'water')\n",
    "languages = ('Python', 'JavaScript', 'Assembly', 'C++', 'PHP')"
   ],
   "metadata": {
    "collapsed": false
   }
  },
  {
   "cell_type": "markdown",
   "source": [
    "# Resolve the puzzle"
   ],
   "metadata": {
    "collapsed": false
   }
  },
  {
   "cell_type": "code",
   "execution_count": 46,
   "outputs": [
    {
     "data": {
      "text/plain": "[(('Norwegian', 'yellow', 'fox', 'water', 'JavaScript'),\n  ('Ukrainian', 'blue', 'horse', 'tea', 'Assembly'),\n  ('Englishman', 'red', 'snails', 'milk', 'Python'),\n  ('Japanese', 'green', 'zebra', 'coffee', 'PHP'),\n  ('Spaniard', 'ivory', 'dog', 'orange juice', 'C++'))]"
     },
     "execution_count": 46,
     "metadata": {},
     "output_type": "execute_result"
    }
   ],
   "source": [
    "from itertools import permutations\n",
    "\n",
    "def it_has(tp1: tuple, val1: str, tp2: tuple, val2: str) -> bool:\n",
    "    \"\"\"Check if the house has both values\"\"\"\n",
    "    pos = tp1.index(val1)\n",
    "    return tp2[pos] == val2\n",
    "\n",
    "def is_right(tp_left: tuple, val_left: str, tp_right: tuple, val_right: str) -> bool:\n",
    "    \"\"\"Check if the val_left is on the left of the val_right\"\"\"\n",
    "    pos = tp_left.index(val_left) + 1\n",
    "\n",
    "    return tp_right[pos] == val_right if pos < len(tp_right) else False\n",
    "\n",
    "\n",
    "[\n",
    "    tuple(zip(nation, color, animal, drink, lang)) # combine all the tuples\n",
    "    for nation in permutations(nationalities)\n",
    "        # The Norwegian lives in the first house.\n",
    "        if nation[0] == 'Norwegian'\n",
    "    for color in permutations(colors)\n",
    "        # The Englishman lives in the red house.\n",
    "        if it_has(nation, 'Englishman', color, 'red')\n",
    "        # The green house is immediately to the right of the ivory house.\n",
    "            and is_right(color, 'green', color, 'ivory')\n",
    "        # The Norwegian lives next to the blue house.\n",
    "            and (is_right(nation, 'Norwegian', color, 'blue') or is_right(color, 'blue', nation, 'Norwegian'))\n",
    "    for animal in permutations(animals)\n",
    "        # The Spaniard owns the dog.\n",
    "        if it_has(nation, 'Spaniard', animal, 'dog')\n",
    "    for drink in permutations(drinks)\n",
    "        # Coffee is drunk in the green house.\n",
    "        if it_has(color, 'green', drink, 'coffee')\n",
    "        # The Ukrainian drinks tea.\n",
    "            and it_has(nation, 'Ukrainian', drink, 'tea')\n",
    "        # Milk is drunk in the middle house.\n",
    "            and drink[2] == 'milk'\n",
    "    for lang in permutations(languages)\n",
    "        # The \"Python programmer\" owns snails.\n",
    "        if it_has(lang, 'Python', animal, 'snails')\n",
    "        # \"JavaScript programmer is\" in the yellow house.\n",
    "            and it_has(lang, 'JavaScript', color, 'yellow')\n",
    "        # The man who \"programs Assembly\" lives in the house next to the man with the fox.\n",
    "            and (is_right(lang, 'Assembly', animal, 'fox') or is_right(animal, 'fox', lang, 'Assembly'))\n",
    "        # \"JavaScript programmer is\" in the house next to the house where the horse is kept.\n",
    "            and (is_right(lang, 'JavaScript', animal, 'horse') or is_right(animal, 'horse', lang, 'JavaScript'))\n",
    "        # The \"C++ programmer\" drinks orange juice.\n",
    "            and it_has(lang, 'C++', drink, 'orange juice')\n",
    "        # The Japanese \"programs PHP\".\n",
    "            and it_has(lang, 'PHP', nation, 'Japanese')\n",
    "]"
   ],
   "metadata": {
    "collapsed": false
   }
  },
  {
   "cell_type": "code",
   "execution_count": 12,
   "outputs": [],
   "source": [],
   "metadata": {
    "collapsed": false
   }
  }
 ],
 "metadata": {
  "kernelspec": {
   "display_name": "Python 3",
   "language": "python",
   "name": "python3"
  },
  "language_info": {
   "codemirror_mode": {
    "name": "ipython",
    "version": 2
   },
   "file_extension": ".py",
   "mimetype": "text/x-python",
   "name": "python",
   "nbconvert_exporter": "python",
   "pygments_lexer": "ipython2",
   "version": "2.7.6"
  }
 },
 "nbformat": 4,
 "nbformat_minor": 0
}
