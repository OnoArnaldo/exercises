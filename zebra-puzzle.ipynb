{
 "cells": [
  {
   "cell_type": "markdown",
   "source": [
    "# Zebra puzzle\n",
    "\n",
    "Reference: https://en.wikipedia.org/wiki/Zebra_Puzzle\n",
    "\n",
    "## Description\n",
    "\n",
    "> I replaced cigar by programming language (which is much healthier)!\n",
    "\n",
    "\n",
    "The following version of the puzzle appeared in Life International in 1962:\n",
    "\n",
    "```\n",
    "        There are five houses.\n",
    "        The Englishman lives in the red house.\n",
    "        The Spaniard owns the dog.\n",
    "        Coffee is drunk in the green house.\n",
    "        The Ukrainian drinks tea.\n",
    "        The green house is immediately to the right of the ivory house.\n",
    "        The \"Python programmer\" owns snails.\n",
    "        \"JavaScript programmer is\" in the yellow house.\n",
    "        Milk is drunk in the middle house.\n",
    "        The Norwegian lives in the first house.\n",
    "        The man who \"programs Assembly\" lives in the house next to the man with the fox.\n",
    "        \"JavaScript programmer is\" in the house next to the house where the horse is kept.\n",
    "        The \"C++ programmer\" drinks orange juice.\n",
    "        The Japanese \"programs PHP\".\n",
    "        The Norwegian lives next to the blue house.\n",
    "\n",
    "    Now, who drinks water? Who owns the zebra?\n",
    "\n",
    "    In the interest of clarity, it must be added that each of the five houses is painted a different color,\n",
    "    and their inhabitants are of different national extractions, own different pets, drink different beverages\n",
    "    and smoke different brands of American cigarets [sic]. One other thing: in statement 6, right means your right.\n",
    "    - Life International, December 17, 1962\n",
    "```"
   ],
   "metadata": {
    "collapsed": false
   }
  },
  {
   "cell_type": "markdown",
   "source": [
    "# Create tuples with all the options"
   ],
   "metadata": {
    "collapsed": false
   }
  },
  {
   "cell_type": "code",
   "execution_count": 2,
   "outputs": [],
   "source": [
    "nationalities = ('Englishman', 'Spaniard', 'Ukrainian', 'Norwegian', 'Japanese')\n",
    "colors = ('red', 'green', 'ivory', 'yellow', 'blue')\n",
    "animals = ('dog', 'snails', 'fox', 'horse', 'zebra')\n",
    "drinks = ('coffee', 'tea', 'milk', 'orange juice', 'water')\n",
    "languages = ('Python', 'JavaScript', 'Assembly', 'C++', 'PHP')"
   ],
   "metadata": {
    "collapsed": false,
    "ExecuteTime": {
     "end_time": "2023-06-10T11:09:26.466070Z",
     "start_time": "2023-06-10T11:09:26.462281Z"
    }
   }
  },
  {
   "cell_type": "markdown",
   "source": [
    "# Resolve the puzzle"
   ],
   "metadata": {
    "collapsed": false
   }
  },
  {
   "cell_type": "code",
   "execution_count": 65,
   "outputs": [
    {
     "data": {
      "text/plain": "[(('Norwegian', 'yellow', 'fox', 'water', 'JavaScript'),\n  ('Ukrainian', 'blue', 'horse', 'tea', 'Assembly'),\n  ('Englishman', 'red', 'snails', 'milk', 'Python'),\n  ('Spaniard', 'ivory', 'dog', 'orange juice', 'C++'),\n  ('Japanese', 'green', 'zebra', 'coffee', 'PHP'))]"
     },
     "execution_count": 65,
     "metadata": {},
     "output_type": "execute_result"
    }
   ],
   "source": [
    "from itertools import permutations\n",
    "\n",
    "class the_house:\n",
    "    def __init__(self, tp: tuple, value: str):\n",
    "        self.tp = tp\n",
    "        self.value = value\n",
    "\n",
    "    def is_on_the_right(self, tp_left: tuple, val_left: str) -> bool:\n",
    "        pos = tp_left.index(val_left) + 1\n",
    "        # if pos < len(self.tp) and self.tp[pos] == self.value:\n",
    "        #     print(tp_left, val_left, self.tp, self.value)\n",
    "        return self.tp[pos] == self.value if pos < len(self.tp) else False\n",
    "\n",
    "    def is_on_the_left(self, tp_right: tuple, val_right: str) -> bool:\n",
    "        pos = tp_right.index(val_right) - 1\n",
    "        return self.tp[pos] == self.value if pos >= 0 else False\n",
    "\n",
    "    def contains(self, tp: tuple, value: str) -> bool:\n",
    "        pos = tp.index(value)\n",
    "        return self.tp[pos] == self.value\n",
    "\n",
    "[\n",
    "    tuple(zip(nation, color, animal, drink, lang)) # combine all the tuples\n",
    "    for nation in permutations(nationalities)\n",
    "        # The Norwegian lives in the first house.\n",
    "        if nation[0] == 'Norwegian'\n",
    "    for color in permutations(colors)\n",
    "        # The Englishman lives in the red house.\n",
    "        if the_house(nation, 'Englishman').contains(color, 'red')\n",
    "        # The green house is immediately to the right of the ivory house.\n",
    "            and the_house(color, 'green').is_on_the_right(color, 'ivory')\n",
    "        # The Norwegian lives next to the blue house.\n",
    "            and (the_house(nation, 'Norwegian').is_on_the_right(color, 'blue')\n",
    "                 or the_house(nation, 'Norwegian').is_on_the_left(color, 'blue'))\n",
    "    for animal in permutations(animals)\n",
    "        # The Spaniard owns the dog.\n",
    "        if the_house(nation, 'Spaniard').contains(animal, 'dog')\n",
    "    for drink in permutations(drinks)\n",
    "        # Coffee is drunk in the green house.\n",
    "        if the_house(color, 'green').contains(drink, 'coffee')\n",
    "        # The Ukrainian drinks tea.\n",
    "            and the_house(nation, 'Ukrainian').contains(drink, 'tea')\n",
    "        # Milk is drunk in the middle house.\n",
    "            and drink[2] == 'milk'\n",
    "    for lang in permutations(languages)\n",
    "        # The \"Python programmer\" owns snails.\n",
    "        if the_house(lang, 'Python').contains(animal, 'snails')\n",
    "        # \"JavaScript programmer is\" in the yellow house.\n",
    "            and the_house(lang, 'JavaScript').contains(color, 'yellow')\n",
    "        # The man who \"programs Assembly\" lives in the house next to the man with the fox.\n",
    "            and (the_house(lang, 'Assembly').is_on_the_right( animal, 'fox')\n",
    "                 or the_house(lang, 'Assembly').is_on_the_left(animal, 'fox'))\n",
    "        # \"JavaScript programmer is\" in the house next to the house where the horse is kept.\n",
    "            and (the_house(lang, 'JavaScript').is_on_the_right(animal, 'horse')\n",
    "                 or the_house(lang, 'JavaScript').is_on_the_left(animal, 'horse'))\n",
    "        # The \"C++ programmer\" drinks orange juice.\n",
    "            and the_house(lang, 'C++').contains(drink, 'orange juice')\n",
    "        # The Japanese \"programs PHP\".\n",
    "            and the_house(lang, 'PHP').contains(nation, 'Japanese')\n",
    "]"
   ],
   "metadata": {
    "collapsed": false,
    "ExecuteTime": {
     "end_time": "2023-06-10T11:34:27.614151Z",
     "start_time": "2023-06-10T11:34:27.611006Z"
    }
   }
  }
 ],
 "metadata": {
  "kernelspec": {
   "display_name": "Python 3",
   "language": "python",
   "name": "python3"
  },
  "language_info": {
   "codemirror_mode": {
    "name": "ipython",
    "version": 2
   },
   "file_extension": ".py",
   "mimetype": "text/x-python",
   "name": "python",
   "nbconvert_exporter": "python",
   "pygments_lexer": "ipython2",
   "version": "2.7.6"
  }
 },
 "nbformat": 4,
 "nbformat_minor": 0
}
