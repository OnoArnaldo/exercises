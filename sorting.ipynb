{
 "cells": [
  {
   "cell_type": "code",
   "execution_count": 1,
   "outputs": [
    {
     "name": "stdout",
     "output_type": "stream",
     "text": [
      "[15, 18, 17, 14, 5, 9, 6, 19, 12, 13, 11, 7, 2, 0, 1, 8, 4, 3, 16, 10]\n",
      "[0, 1, 2, 3, 4, 5, 6, 7, 8, 9, 10, 11, 12, 13, 14, 15, 16, 17, 18, 19]\n"
     ]
    }
   ],
   "source": [
    "import random\n",
    "\n",
    "numbers = list(range(20))\n",
    "random.shuffle(numbers)\n",
    "\n",
    "def insert_sort(values: list[int]) -> None:\n",
    "    for i in range(len(values)):\n",
    "        for j in range(i, 0, -1):\n",
    "            if values[j] < values[j-1]:\n",
    "                values[j], values[j-1] = values[j-1], values[j]\n",
    "\n",
    "print(numbers)\n",
    "insert_sort(numbers)\n",
    "print(numbers)"
   ],
   "metadata": {
    "collapsed": false,
    "ExecuteTime": {
     "start_time": "2023-04-09T00:18:16.445332Z",
     "end_time": "2023-04-09T00:18:16.452332Z"
    }
   }
  },
  {
   "cell_type": "code",
   "execution_count": 2,
   "outputs": [
    {
     "name": "stdout",
     "output_type": "stream",
     "text": [
      "[1, 13, 10, 19, 4, 9, 7, 0, 8, 6, 14, 17, 3, 16, 5, 2, 18, 15, 11, 12]\n",
      "[0, 1, 2, 3, 4, 5, 6, 7, 8, 9, 10, 11, 12, 13, 14, 15, 16, 17, 18, 19]\n"
     ]
    }
   ],
   "source": [
    "import random\n",
    "\n",
    "numbers = list(range(20))\n",
    "random.shuffle(numbers)\n",
    "\n",
    "def selection_sort(values: list[int]) -> None:\n",
    "    for i in range(len(values)):\n",
    "        low_idx = i\n",
    "        for j in range(i+1, len(values)):\n",
    "            if values[low_idx] > values[j]:\n",
    "                low_idx = j\n",
    "\n",
    "        if low_idx != i:\n",
    "            values[i], values[low_idx] = values[low_idx], values[i]\n",
    "\n",
    "print(numbers)\n",
    "selection_sort(numbers)\n",
    "print(numbers)"
   ],
   "metadata": {
    "collapsed": false,
    "ExecuteTime": {
     "start_time": "2023-04-09T00:18:16.456329Z",
     "end_time": "2023-04-09T00:18:16.458600Z"
    }
   }
  },
  {
   "cell_type": "code",
   "execution_count": 3,
   "outputs": [
    {
     "name": "stdout",
     "output_type": "stream",
     "text": [
      "[11, 1, 9, 4, 7, 12, 2, 15, 5, 13, 16, 18, 0, 10, 14, 17, 3, 19, 6, 8]\n",
      "[0, 1, 2, 3, 4, 5, 6, 7, 8, 9, 10, 11, 12, 13, 14, 15, 16, 17, 18, 19]\n"
     ]
    }
   ],
   "source": [
    "import random\n",
    "\n",
    "ValuesType = list[int]\n",
    "\n",
    "numbers = list(range(20))\n",
    "random.shuffle(numbers)\n",
    "\n",
    "def merge(left: ValuesType, right: ValuesType) -> ValuesType:\n",
    "    result = []\n",
    "    i1 = i2 = 0\n",
    "    max1, max2 = len(left), len(right)\n",
    "\n",
    "    while i1 < max1 or i2 < max2:\n",
    "        if i2 >= max2:\n",
    "            result.append(left[i1])\n",
    "            i1 += 1\n",
    "        elif i1 >= max1:\n",
    "            result.append(right[i2])\n",
    "            i2 += 1\n",
    "        elif left[i1] < right[i2]:\n",
    "            result.append(left[i1])\n",
    "            i1 += 1\n",
    "        else:\n",
    "            result.append(right[i2])\n",
    "            i2 += 1\n",
    "    return result\n",
    "\n",
    "def merge_sort(values: ValuesType) -> ValuesType:\n",
    "    if len(values) <= 1:\n",
    "        return values\n",
    "\n",
    "    mid = len(values) // 2\n",
    "    left = merge_sort(values[:mid])\n",
    "    right = merge_sort(values[mid:])\n",
    "    return merge(left, right)\n",
    "\n",
    "print(numbers)\n",
    "print(merge_sort(numbers))"
   ],
   "metadata": {
    "collapsed": false,
    "ExecuteTime": {
     "start_time": "2023-04-09T00:18:16.463654Z",
     "end_time": "2023-04-09T00:18:16.465705Z"
    }
   }
  },
  {
   "cell_type": "code",
   "execution_count": 4,
   "outputs": [
    {
     "name": "stdout",
     "output_type": "stream",
     "text": [
      "[19, 10, 18, 0, 14, 17, 1, 9, 15, 2, 6, 16, 3, 12, 8, 4, 13, 11, 7, 5]\n",
      "[0, 1, 2, 3, 4, 5, 6, 7, 8, 9, 10, 11, 12, 13, 14, 15, 16, 17, 18, 19]\n"
     ]
    }
   ],
   "source": [
    "import random\n",
    "\n",
    "ValuesType = list[int]\n",
    "\n",
    "numbers = list(range(20))\n",
    "random.shuffle(numbers)\n",
    "\n",
    "def bubble_sort(values: ValuesType) -> None:\n",
    "    for i in range(len(values)-1, 0, -1):\n",
    "        for j in range(0, i):\n",
    "            if values[j] > values[i]:\n",
    "                values[j], values[i] = values[i], values[j]\n",
    "\n",
    "print(numbers)\n",
    "bubble_sort(numbers)\n",
    "print(numbers)"
   ],
   "metadata": {
    "collapsed": false,
    "ExecuteTime": {
     "start_time": "2023-04-09T00:18:16.468735Z",
     "end_time": "2023-04-09T00:18:16.501091Z"
    }
   }
  },
  {
   "cell_type": "code",
   "execution_count": 5,
   "outputs": [
    {
     "name": "stdout",
     "output_type": "stream",
     "text": [
      "[10, 0, 8, 13, 14, 4, 3, 11, 17, 12, 1, 9, 7, 15, 6, 18, 5, 19, 16, 2]\n",
      "[0, 1, 2, 3, 4, 5, 6, 7, 8, 9, 10, 11, 12, 13, 14, 15, 16, 17, 18, 19]\n"
     ]
    }
   ],
   "source": [
    "import random\n",
    "\n",
    "ValuesType = list[int]\n",
    "\n",
    "numbers = list(range(20))\n",
    "random.shuffle(numbers)\n",
    "\n",
    "def _partition(values: ValuesType, lo: int, hi: int) -> int:\n",
    "    pivot = values[(lo+hi)//2]\n",
    "\n",
    "    left = lo\n",
    "    right = hi\n",
    "    while True:\n",
    "        while left < right and values[left] < pivot: left += 1\n",
    "        while left < right and values[right] > pivot: right -=1\n",
    "\n",
    "        if left >= right:\n",
    "            return right\n",
    "\n",
    "        values[left], values[right] = values[right], values[left]\n",
    "\n",
    "def _quick_sort(values: ValuesType, lo: int=None, hi: int=None) -> None:\n",
    "    if hi > lo:\n",
    "        p = _partition(values, lo, hi)\n",
    "        _quick_sort(values, lo, p)\n",
    "        _quick_sort(values, p+1, hi)\n",
    "\n",
    "def quick_sort(values: ValuesType) -> None:\n",
    "    _quick_sort(values, 0, len(values)-1)\n",
    "\n",
    "print(numbers)\n",
    "quick_sort(numbers)\n",
    "print(numbers)"
   ],
   "metadata": {
    "collapsed": false,
    "ExecuteTime": {
     "start_time": "2023-04-09T00:18:16.474707Z",
     "end_time": "2023-04-09T00:18:16.505312Z"
    }
   }
  },
  {
   "cell_type": "code",
   "execution_count": 6,
   "outputs": [
    {
     "name": "stdout",
     "output_type": "stream",
     "text": [
      "[5, 0, 34, 35, 19, 4, 1, 24, 36, 43, 12, 17, 48, 26, 27, 30, 31, 18, 28, 25, 21, 14, 20, 29, 15, 47, 32, 10, 3, 41, 45, 37, 40, 13, 7, 42, 33, 2, 39, 8, 44, 46, 23, 16, 22, 49, 11, 38, 9, 6]\n",
      "InsertSort    (10000, 0.30683099999441765)\n",
      "SelectionSort (10000, 0.25869274997967295)\n",
      "MergeSort     (10000, 0.29008641600375995)\n",
      "BubbleSort    (10000, 0.24122137497761287)\n",
      "QuickSort     (20000, 0.2482090420089662)\n"
     ]
    }
   ],
   "source": [
    "import random\n",
    "\n",
    "ValuesType = list[int]\n",
    "\n",
    "numbers = list(range(50))\n",
    "random.shuffle(numbers)\n",
    "\n",
    "def time(stmt, setup, message=''):\n",
    "    import timeit\n",
    "    timer = timeit.Timer(stmt, setup)\n",
    "    print(message, timer.autorange())\n",
    "\n",
    "\n",
    "print(numbers)\n",
    "time('insert_sort(n)',\n",
    "     setup='from __main__ import insert_sort, numbers;n=numbers.copy();',\n",
    "     message='InsertSort   ')\n",
    "time('selection_sort(n)',\n",
    "     setup='from __main__ import selection_sort, numbers;n=numbers.copy();',\n",
    "     message='SelectionSort')\n",
    "time('merge_sort(n)',\n",
    "     setup='from __main__ import merge_sort, numbers;n=numbers.copy();',\n",
    "     message='MergeSort    ')\n",
    "time('bubble_sort(n)',\n",
    "     setup='from __main__ import bubble_sort, numbers;n=numbers.copy();',\n",
    "     message='BubbleSort   ')\n",
    "time('quick_sort(n)',\n",
    "     setup='from __main__ import quick_sort, numbers;n=numbers.copy();',\n",
    "     message='QuickSort    ')"
   ],
   "metadata": {
    "collapsed": false,
    "ExecuteTime": {
     "start_time": "2023-04-09T00:18:16.519893Z",
     "end_time": "2023-04-09T00:18:19.050426Z"
    }
   }
  }
 ],
 "metadata": {
  "kernelspec": {
   "display_name": "Python 3",
   "language": "python",
   "name": "python3"
  },
  "language_info": {
   "codemirror_mode": {
    "name": "ipython",
    "version": 2
   },
   "file_extension": ".py",
   "mimetype": "text/x-python",
   "name": "python",
   "nbconvert_exporter": "python",
   "pygments_lexer": "ipython2",
   "version": "2.7.6"
  }
 },
 "nbformat": 4,
 "nbformat_minor": 0
}
