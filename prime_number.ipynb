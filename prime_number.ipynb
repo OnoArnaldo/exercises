{
 "cells": [
  {
   "cell_type": "code",
   "execution_count": 2,
   "metadata": {
    "collapsed": true,
    "ExecuteTime": {
     "start_time": "2023-04-01T09:38:57.620950Z",
     "end_time": "2023-04-01T09:38:58.773666Z"
    }
   },
   "outputs": [
    {
     "name": "stdout",
     "output_type": "stream",
     "text": [
      "0.6326226250021136\n",
      "0.3697846249997383\n",
      "0.2044272919993091\n"
     ]
    }
   ],
   "source": [
    "def is_prime_naive(number: int) -> bool:\n",
    "    if number in (2, 3, 5):\n",
    "        return True\n",
    "    if number < 2 or number % 2 == 0:\n",
    "        return False\n",
    "\n",
    "    for i in range(3, number):\n",
    "        if number % i == 0:\n",
    "            return False\n",
    "    return True\n",
    "\n",
    "\n",
    "def is_prime_skip_even(number: int) -> bool:\n",
    "    if number in (2, 3, 5):\n",
    "        return True\n",
    "    if number < 2 or number % 2 == 0:\n",
    "        return False\n",
    "\n",
    "    for i in range(3, number, 2):\n",
    "        if number % i == 0:\n",
    "            return False\n",
    "    return True\n",
    "\n",
    "\n",
    "def is_prime_sqrt(number: int) -> bool:\n",
    "    if number in (2, 3, 5):\n",
    "        return True\n",
    "    if number < 2 or number % 2 == 0:\n",
    "        return False\n",
    "\n",
    "    for i in range(3, int(number**0.5), 2):\n",
    "        if number % i == 0:\n",
    "            return False\n",
    "    return True\n",
    "\n",
    "\n",
    "from timeit import timeit\n",
    "\n",
    "print(timeit('is_prime_naive(29)', setup='from __main__ import is_prime_naive'))\n",
    "print(timeit('is_prime_skip_even(29)', setup='from __main__ import is_prime_skip_even'))\n",
    "print(timeit('is_prime_sqrt(29)', setup='from __main__ import is_prime_sqrt'))"
   ]
  },
  {
   "cell_type": "code",
   "execution_count": null,
   "outputs": [],
   "source": [],
   "metadata": {
    "collapsed": false
   }
  }
 ],
 "metadata": {
  "kernelspec": {
   "display_name": "Python 3",
   "language": "python",
   "name": "python3"
  },
  "language_info": {
   "codemirror_mode": {
    "name": "ipython",
    "version": 2
   },
   "file_extension": ".py",
   "mimetype": "text/x-python",
   "name": "python",
   "nbconvert_exporter": "python",
   "pygments_lexer": "ipython2",
   "version": "2.7.6"
  }
 },
 "nbformat": 4,
 "nbformat_minor": 0
}
