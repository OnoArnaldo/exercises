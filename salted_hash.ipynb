{
 "cells": [
  {
   "cell_type": "markdown",
   "source": [
    "## Using sha512 function only"
   ],
   "metadata": {
    "collapsed": false
   }
  },
  {
   "cell_type": "code",
   "execution_count": 123,
   "metadata": {
    "collapsed": true,
    "ExecuteTime": {
     "end_time": "2023-06-10T09:43:13.096183Z",
     "start_time": "2023-06-10T09:43:13.093972Z"
    }
   },
   "outputs": [
    {
     "name": "stdout",
     "output_type": "stream",
     "text": [
      "1vzah9153wDeeVUpdTtW#f92f889236b40fe35a0a7c56153fcf6db9b6861915cffacf5efd02e067291178d1be2685673ded78327ff69bdeaf51d642cdf28c7d857ec6001efc5ebff3d352\n",
      ">> True\n"
     ]
    }
   ],
   "source": [
    "import string\n",
    "import random\n",
    "import hashlib\n",
    "\n",
    "SECRET = 'keep-it-secret'\n",
    "CHARS = string.ascii_letters + string.digits\n",
    "\n",
    "def salt(size: int = 20) -> str:\n",
    "    return ''.join(random.choices(CHARS, k=size))\n",
    "\n",
    "def generate_password(password: str, the_salt: str = None) -> str:\n",
    "    if the_salt is None:\n",
    "        the_salt = salt()\n",
    "    password = f'{the_salt};{SECRET};{password}'.encode()\n",
    "    salted = hashlib.sha512(password).hexdigest()\n",
    "    return f'{the_salt}#{salted}'\n",
    "\n",
    "def check_password(password: str, salted_hash: str) -> bool:\n",
    "    the_salt, hashed = salted_hash.split('#')\n",
    "    return generate_password(password, the_salt) == salted_hash\n",
    "\n",
    "\n",
    "hashed_password = generate_password('aono')\n",
    "print(hashed_password)\n",
    "print('>>', check_password('aono', hashed_password))"
   ]
  },
  {
   "cell_type": "markdown",
   "source": [
    "# Using blake keyed hashing"
   ],
   "metadata": {
    "collapsed": false
   }
  },
  {
   "cell_type": "code",
   "execution_count": 125,
   "outputs": [
    {
     "name": "stdout",
     "output_type": "stream",
     "text": [
      "0sx90T6E7ydVdCh3#1919864b9b75090cfea6103ea81f5f229a82bc36a5a5b343de6bf4a1b02390b5de169082da109e75623249768671839772a7eb38c26eeeb12c3f58d1b3c9d3e1\n",
      ">> True\n"
     ]
    }
   ],
   "source": [
    "import string\n",
    "import random\n",
    "import hashlib\n",
    "\n",
    "SECRET = 'keep-it-secret'\n",
    "CHARS = string.ascii_letters + string.digits\n",
    "\n",
    "def salt(size: int = 16) -> str:\n",
    "    return ''.join(random.choices(CHARS, k=size))\n",
    "\n",
    "def generate_password(password: str, the_salt: str = None) -> str:\n",
    "    if the_salt is None:\n",
    "        the_salt = salt()\n",
    "\n",
    "    h = hashlib.blake2b(password.encode(), key=SECRET.encode(), salt=the_salt.encode()).hexdigest()\n",
    "    return f'{the_salt}#{h}'\n",
    "\n",
    "def check_password(password: str, salted_hash: str) -> bool:\n",
    "    the_salt, hashed = salted_hash.split('#')\n",
    "    return generate_password(password, the_salt) == salted_hash\n",
    "\n",
    "\n",
    "salted_hash = generate_password('aono')\n",
    "print(salted_hash)\n",
    "print('>>', check_password('aono', salted_hash))"
   ],
   "metadata": {
    "collapsed": false,
    "ExecuteTime": {
     "end_time": "2023-06-10T09:50:59.482887Z",
     "start_time": "2023-06-10T09:50:59.481033Z"
    }
   }
  }
 ],
 "metadata": {
  "kernelspec": {
   "display_name": "Python 3",
   "language": "python",
   "name": "python3"
  },
  "language_info": {
   "codemirror_mode": {
    "name": "ipython",
    "version": 2
   },
   "file_extension": ".py",
   "mimetype": "text/x-python",
   "name": "python",
   "nbconvert_exporter": "python",
   "pygments_lexer": "ipython2",
   "version": "2.7.6"
  }
 },
 "nbformat": 4,
 "nbformat_minor": 0
}
